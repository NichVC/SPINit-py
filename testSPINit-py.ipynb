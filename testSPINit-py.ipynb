{
 "cells": [
  {
   "cell_type": "code",
   "execution_count": 3,
   "id": "516b020a",
   "metadata": {},
   "outputs": [],
   "source": [
    "# Official packages\n",
    "import os\n",
    "import copy\n",
    "\n",
    "from typing import List, Dict\n",
    "\n",
    "# Third-party packages\n",
    "import numpy as np\n",
    "\n",
    "# In-house packages\n",
    "from SPINitExp import SPINitExp"
   ]
  },
  {
   "cell_type": "code",
   "execution_count": 4,
   "id": "7e9ecb95",
   "metadata": {},
   "outputs": [
    {
     "data": {
      "text/plain": [
       "<SPINitExp.SPINitExp at 0x1dcc5408b10>"
      ]
     },
     "execution_count": 4,
     "metadata": {},
     "output_type": "execute_result"
    }
   ],
   "source": [
    "SPINitExp(\"./\")"
   ]
  }
 ],
 "metadata": {
  "kernelspec": {
   "display_name": "Python 3 (ipykernel)",
   "language": "python",
   "name": "python3"
  },
  "language_info": {
   "codemirror_mode": {
    "name": "ipython",
    "version": 3
   },
   "file_extension": ".py",
   "mimetype": "text/x-python",
   "name": "python",
   "nbconvert_exporter": "python",
   "pygments_lexer": "ipython3",
   "version": "3.11.3"
  }
 },
 "nbformat": 4,
 "nbformat_minor": 5
}
